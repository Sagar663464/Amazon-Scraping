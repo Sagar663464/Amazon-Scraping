{
 "cells": [
  {
   "cell_type": "markdown",
   "metadata": {},
   "source": [
    "## Scraping Book's title and price from Amazon"
   ]
  },
  {
   "cell_type": "code",
   "execution_count": 2,
   "metadata": {},
   "outputs": [],
   "source": [
    "# Importing all the required libraries\n",
    "\n",
    "import requests as re\n",
    "from bs4 import BeautifulSoup\n",
    "import datetime\n",
    "import pandas as pd"
   ]
  },
  {
   "cell_type": "code",
   "execution_count": 3,
   "metadata": {},
   "outputs": [
    {
     "name": "stdout",
     "output_type": "stream",
     "text": [
      "[<span class=\"a-price-whole\">\n",
      "                           259\n",
      "                          </span>, <span class=\"a-price-whole\">\n",
      "                           399\n",
      "                          </span>, <span class=\"a-price-whole\">\n",
      "                           386\n",
      "                          </span>, <span class=\"a-price-whole\">\n",
      "                             353\n",
      "                             <span class=\"a-price-decimal\">\n",
      "                              .\n",
      "                             </span>\n",
      "</span>, <span class=\"a-price-whole\">\n",
      "                             0\n",
      "                            </span>, <span class=\"a-price-whole\">\n",
      "                           265\n",
      "                          </span>, <span class=\"a-price-whole\">\n",
      "                             189\n",
      "                             <span class=\"a-price-decimal\">\n",
      "                              .\n",
      "                             </span>\n",
      "</span>, <span class=\"a-price-whole\">\n",
      "                             0\n",
      "                            </span>, <span class=\"a-price-whole\">\n",
      "                           259\n",
      "                          </span>, <span class=\"a-price-whole\">\n",
      "                             164\n",
      "                             <span class=\"a-price-decimal\">\n",
      "                              .\n",
      "                             </span>\n",
      "</span>, <span class=\"a-price-whole\">\n",
      "                             0\n",
      "                            </span>, <span class=\"a-price-whole\">\n",
      "                           292\n",
      "                          </span>, <span class=\"a-price-whole\">\n",
      "                             148\n",
      "                            </span>, <span class=\"a-price-whole\">\n",
      "                             78\n",
      "                            </span>, <span class=\"a-price-whole\">\n",
      "                           699\n",
      "                          </span>, <span class=\"a-price-whole\">\n",
      "                           184\n",
      "                          </span>, <span class=\"a-price-whole\">\n",
      "                             173\n",
      "                             <span class=\"a-price-decimal\">\n",
      "                              .\n",
      "                             </span>\n",
      "</span>, <span class=\"a-price-whole\">\n",
      "                             0\n",
      "                            </span>, <span class=\"a-price-whole\">\n",
      "                           115\n",
      "                          </span>, <span class=\"a-price-whole\">\n",
      "                             15\n",
      "                            </span>, <span class=\"a-price-whole\">\n",
      "                             0\n",
      "                            </span>, <span class=\"a-price-whole\">\n",
      "                           299\n",
      "                          </span>, <span class=\"a-price-whole\">\n",
      "                           127\n",
      "                          </span>, <span class=\"a-price-whole\">\n",
      "                             19\n",
      "                            </span>, <span class=\"a-price-whole\">\n",
      "                           98\n",
      "                          </span>, <span class=\"a-price-whole\">\n",
      "                           294\n",
      "                          </span>, <span class=\"a-price-whole\">\n",
      "                             360\n",
      "                            </span>, <span class=\"a-price-whole\">\n",
      "                           165\n",
      "                          </span>, <span class=\"a-price-whole\">\n",
      "                             95\n",
      "                             <span class=\"a-price-decimal\">\n",
      "                              .\n",
      "                             </span>\n",
      "</span>, <span class=\"a-price-whole\">\n",
      "                             0\n",
      "                            </span>, <span class=\"a-price-whole\">\n",
      "                           335\n",
      "                          </span>, <span class=\"a-price-whole\">\n",
      "                             384\n",
      "                             <span class=\"a-price-decimal\">\n",
      "                              .\n",
      "                             </span>\n",
      "</span>, <span class=\"a-price-whole\">\n",
      "                             0\n",
      "                            </span>, <span class=\"a-price-whole\">\n",
      "                           89\n",
      "                          </span>]\n",
      "[<span class=\"a-size-medium a-color-base a-text-normal\">\n",
      "                      Hindus in Hindu Rashtra (Eighth-Class Citizens and Victims of State-Sanctioned Apartheid)\n",
      "                     </span>, <span class=\"a-size-medium a-color-base a-text-normal\">\n",
      "                      My First Mini Library : Boxset of 10 Board Books\n",
      "                     </span>, <span class=\"a-size-medium a-color-base a-text-normal\">\n",
      "                      Atomic Habits: the life-changing million-copy #1 bestseller\n",
      "                     </span>, <span class=\"a-size-medium a-color-base a-text-normal\">\n",
      "                      Ikigai\n",
      "                     </span>, <span class=\"a-size-medium a-color-base a-text-normal\">\n",
      "                      The Psychology Of Money\n",
      "                     </span>, <span class=\"a-size-medium a-color-base a-text-normal\">\n",
      "                      Shrimad Bhagwat Geeta Yatharoop\n",
      "                     </span>, <span class=\"a-size-medium a-color-base a-text-normal\">\n",
      "                      Indian Polity for UPSC (English| 7th Edition) |Civil Services Exam| State Administrative Exams\n",
      "                     </span>, <span class=\"a-size-medium a-color-base a-text-normal\">\n",
      "                      Don't Believe Everything You Think (English)\n",
      "                     </span>, <span class=\"a-size-medium a-color-base a-text-normal\">\n",
      "                      The Power of Your Subconscious Mind\n",
      "                     </span>, <span class=\"a-size-medium a-color-base a-text-normal\">\n",
      "                      Colouring Books for Kids (Pack of 12 Books)\n",
      "                     </span>, <span class=\"a-size-medium a-color-base a-text-normal\">\n",
      "                      Do It Today: Overcome procrastination, improve productivity and achieve more meaningful things [Paperback] Foroux, Darius\n",
      "                     </span>, <span class=\"a-size-medium a-color-base a-text-normal\">\n",
      "                      Brain Activity Book for Kids - 200+ Activities for Age 3+\n",
      "                     </span>, <span class=\"a-size-medium a-color-base a-text-normal\">\n",
      "                      BlackBook of English Vocabulary March 2023 by Nikhil Gupta\n",
      "                     </span>, <span class=\"a-size-medium a-color-base a-text-normal\">\n",
      "                      Grandma's Bag of Stories: Collection of 20+ Illustrated short stories, traditional Indian folk tales for all ages for children of all ages by Sudha Murty [Paperback] Sudha Murty\n",
      "                     </span>, <span class=\"a-size-medium a-color-base a-text-normal\">\n",
      "                      Rich Dad Poor Dad: What the Rich Teach Their Kids About Money That the Poor and Middle Class Do Not!\n",
      "                     </span>, <span class=\"a-size-medium a-color-base a-text-normal\">\n",
      "                      My First Book of Patterns Pencil Control: Practice Patterns (Pattern Writing)\n",
      "                     </span>]\n"
     ]
    }
   ],
   "source": [
    "# Getting all the required data as html \n",
    "\n",
    "url = 'https://www.amazon.in/s?i=stripbooks&bbn=976389031&rh=n%3A976389031%2Cp_85%3A10440599031%2Cp_n_availability%3A1318484031&pf_rd_i=976389031&pf_rd_m=A1VBAL9TL5WCBF&pf_rd_p=d9156ff5-f4fe-4d30-acc4-be8a85626096&pf_rd_r=RPJ07AB4GA6NNQH82SE9&pf_rd_s=merchandised-search-4&ref=AF_WIN_bub_w_cml_t_1'\n",
    "\n",
    "headers = {\"User-Agent\": \"Mozilla/5.0 (Windows NT 10.0; Win64; x64) AppleWebKit/537.36 (KHTML, like Gecko) Chrome/115.0.0.0 Safari/537.36 Edg/115.0.1901.203\"}\n",
    "\n",
    "webpage = re.get(url, headers=headers)\n",
    "\n",
    "soup1 =BeautifulSoup(webpage.content, 'lxml')\n",
    "\n",
    "soup2 = BeautifulSoup(soup1.prettify(), 'lxml')\n",
    "\n",
    "link_title = \"a-size-medium a-color-base a-text-normal\"\n",
    "\n",
    "link_price = \"a-price-whole\"\n",
    "\n",
    "# Finding specific tags and attributes\n",
    "\n",
    "title = soup2.find_all('span', attrs={'class':link_title})\n",
    "\n",
    "price = soup2.div.find_all('span', attrs={'class':link_price})\n",
    "\n",
    "\n",
    "print(price)\n",
    "print(title)\n",
    "\n"
   ]
  },
  {
   "cell_type": "code",
   "execution_count": 15,
   "metadata": {},
   "outputs": [
    {
     "name": "stdout",
     "output_type": "stream",
     "text": [
      "['259', '399', '386', '353\\n                             \\n                              .', '0', '265', '189\\n                             \\n                              .', '0', '259', '164\\n                             \\n                              .', '0', '292', '148', '78', '699', '184', '173\\n                             \\n                              .', '0', '115', '15', '0', '299', '127', '19', '98', '294', '360', '165', '95\\n                             \\n                              .', '0', '335', '384\\n                             \\n                              .', '0', '89']\n",
      "['Hindus in Hindu Rashtra (Eighth-Class Citizens and Victims of State-Sanctioned Apartheid)', 'My First Mini Library : Boxset of 10 Board Books', 'Atomic Habits: the life-changing million-copy #1 bestseller', 'Ikigai', 'The Psychology Of Money', 'Shrimad Bhagwat Geeta Yatharoop', 'Indian Polity for UPSC (English| 7th Edition) |Civil Services Exam| State Administrative Exams', \"Don't Believe Everything You Think (English)\", 'The Power of Your Subconscious Mind', 'Colouring Books for Kids (Pack of 12 Books)', 'Do It Today: Overcome procrastination, improve productivity and achieve more meaningful things [Paperback] Foroux, Darius', 'Brain Activity Book for Kids - 200+ Activities for Age 3+', 'BlackBook of English Vocabulary March 2023 by Nikhil Gupta', \"Grandma's Bag of Stories: Collection of 20+ Illustrated short stories, traditional Indian folk tales for all ages for children of all ages by Sudha Murty [Paperback] Sudha Murty\", 'Rich Dad Poor Dad: What the Rich Teach Their Kids About Money That the Poor and Middle Class Do Not!', 'My First Book of Patterns Pencil Control: Practice Patterns (Pattern Writing)']\n"
     ]
    }
   ],
   "source": [
    "'''Appending prices of books to an empty list'''\n",
    "\n",
    "price_lst = []\n",
    "\n",
    "for cost in price:\n",
    "    price_lst.append(cost.text.strip())\n",
    "\n",
    "\n",
    "print(price_lst)\n",
    "\n",
    "'''Appending titles of books to an empty list'''\n",
    "\n",
    "title_lst = []\n",
    "\n",
    "for i in title:\n",
    "    title_lst.append(i.text.strip())\n",
    "\n",
    "print(title_lst)\n"
   ]
  },
  {
   "cell_type": "code",
   "execution_count": 16,
   "metadata": {},
   "outputs": [
    {
     "data": {
      "text/plain": [
       "{'Hindus in Hindu Rashtra (Eighth-Class Citizens and Victims of State-Sanctioned Apartheid)': '259',\n",
       " 'My First Mini Library : Boxset of 10 Board Books': '399',\n",
       " 'Atomic Habits: the life-changing million-copy #1 bestseller': '386',\n",
       " 'Ikigai': '353\\n                             \\n                              .',\n",
       " 'The Psychology Of Money': '0',\n",
       " 'Shrimad Bhagwat Geeta Yatharoop': '265',\n",
       " 'Indian Polity for UPSC (English| 7th Edition) |Civil Services Exam| State Administrative Exams': '189\\n                             \\n                              .',\n",
       " \"Don't Believe Everything You Think (English)\": '0',\n",
       " 'The Power of Your Subconscious Mind': '259',\n",
       " 'Colouring Books for Kids (Pack of 12 Books)': '164\\n                             \\n                              .',\n",
       " 'Do It Today: Overcome procrastination, improve productivity and achieve more meaningful things [Paperback] Foroux, Darius': '0',\n",
       " 'Brain Activity Book for Kids - 200+ Activities for Age 3+': '292',\n",
       " 'BlackBook of English Vocabulary March 2023 by Nikhil Gupta': '148',\n",
       " \"Grandma's Bag of Stories: Collection of 20+ Illustrated short stories, traditional Indian folk tales for all ages for children of all ages by Sudha Murty [Paperback] Sudha Murty\": '78',\n",
       " 'Rich Dad Poor Dad: What the Rich Teach Their Kids About Money That the Poor and Middle Class Do Not!': '699',\n",
       " 'My First Book of Patterns Pencil Control: Practice Patterns (Pattern Writing)': '184'}"
      ]
     },
     "execution_count": 16,
     "metadata": {},
     "output_type": "execute_result"
    }
   ],
   "source": [
    "# Creating a dictionary with 2 lists scraped before\n",
    "\n",
    "dict = {title_lst[key] : price_lst[key] for key in range(len(title_lst))}\n",
    "\n",
    "dict"
   ]
  },
  {
   "cell_type": "code",
   "execution_count": 17,
   "metadata": {},
   "outputs": [],
   "source": [
    "'''Getting the date using datetime'''\n",
    "today = datetime.date.today()"
   ]
  },
  {
   "cell_type": "code",
   "execution_count": 20,
   "metadata": {},
   "outputs": [],
   "source": [
    "# Writing the data into csv file\n",
    "\n",
    "import csv\n",
    "\n",
    "heading = ['Date','Product', 'Price']\n",
    "data = [today, title_lst, price_lst]\n",
    "\n",
    "'''Writing the headings into a csv file'''\n",
    "\n",
    "with open('AmazonScrape.csv', 'w', newline='', encoding='UTF8') as c:\n",
    "    csvwriter = csv.writer(c)\n",
    "    csvwriter.writerow(heading)"
   ]
  },
  {
   "cell_type": "code",
   "execution_count": 21,
   "metadata": {},
   "outputs": [],
   "source": [
    "'''Appending all the values into the csv file'''\n",
    "with open('AmazonScrape.csv', 'a+', newline='', encoding='UTF8') as c:\n",
    "    for key, value in dict.items():\n",
    "    \n",
    "        data = [today, key, value]\n",
    "        csvwriter = csv.writer(c)\n",
    "        csvwriter.writerow(data)\n"
   ]
  },
  {
   "cell_type": "code",
   "execution_count": 31,
   "metadata": {},
   "outputs": [
    {
     "data": {
      "text/html": [
       "<div>\n",
       "<style scoped>\n",
       "    .dataframe tbody tr th:only-of-type {\n",
       "        vertical-align: middle;\n",
       "    }\n",
       "\n",
       "    .dataframe tbody tr th {\n",
       "        vertical-align: top;\n",
       "    }\n",
       "\n",
       "    .dataframe thead th {\n",
       "        text-align: right;\n",
       "    }\n",
       "</style>\n",
       "<table border=\"1\" class=\"dataframe\">\n",
       "  <thead>\n",
       "    <tr style=\"text-align: right;\">\n",
       "      <th></th>\n",
       "      <th>Date</th>\n",
       "      <th>Product</th>\n",
       "      <th>Price</th>\n",
       "    </tr>\n",
       "  </thead>\n",
       "  <tbody>\n",
       "    <tr>\n",
       "      <th>0</th>\n",
       "      <td>2023-08-22</td>\n",
       "      <td>Hindus in Hindu Rashtra (Eighth-Class Citizens...</td>\n",
       "      <td>259</td>\n",
       "    </tr>\n",
       "    <tr>\n",
       "      <th>1</th>\n",
       "      <td>2023-08-22</td>\n",
       "      <td>My First Mini Library : Boxset of 10 Board Books</td>\n",
       "      <td>399</td>\n",
       "    </tr>\n",
       "    <tr>\n",
       "      <th>2</th>\n",
       "      <td>2023-08-22</td>\n",
       "      <td>Atomic Habits: the life-changing million-copy ...</td>\n",
       "      <td>386</td>\n",
       "    </tr>\n",
       "    <tr>\n",
       "      <th>3</th>\n",
       "      <td>2023-08-22</td>\n",
       "      <td>Ikigai</td>\n",
       "      <td>353\\n                             \\n          ...</td>\n",
       "    </tr>\n",
       "    <tr>\n",
       "      <th>4</th>\n",
       "      <td>2023-08-22</td>\n",
       "      <td>The Psychology Of Money</td>\n",
       "      <td>0</td>\n",
       "    </tr>\n",
       "  </tbody>\n",
       "</table>\n",
       "</div>"
      ],
      "text/plain": [
       "         Date                                            Product  \\\n",
       "0  2023-08-22  Hindus in Hindu Rashtra (Eighth-Class Citizens...   \n",
       "1  2023-08-22   My First Mini Library : Boxset of 10 Board Books   \n",
       "2  2023-08-22  Atomic Habits: the life-changing million-copy ...   \n",
       "3  2023-08-22                                             Ikigai   \n",
       "4  2023-08-22                            The Psychology Of Money   \n",
       "\n",
       "                                               Price  \n",
       "0                                                259  \n",
       "1                                                399  \n",
       "2                                                386  \n",
       "3  353\\n                             \\n          ...  \n",
       "4                                                  0  "
      ]
     },
     "execution_count": 31,
     "metadata": {},
     "output_type": "execute_result"
    }
   ],
   "source": [
    "df = pd.read_csv(\"AmazonScrape.csv\")\n",
    "df.head()"
   ]
  },
  {
   "cell_type": "code",
   "execution_count": 32,
   "metadata": {},
   "outputs": [],
   "source": [
    "'''Using Regex to remove the newlines'''\n",
    "\n",
    "import re\n",
    "df['Price'] = df['Price'].apply(lambda x : re.sub(r'\\n', '', x))"
   ]
  },
  {
   "cell_type": "code",
   "execution_count": 34,
   "metadata": {},
   "outputs": [],
   "source": [
    "df['Price'] = df['Price'].apply(lambda x : re.sub(r' ', '', x))"
   ]
  },
  {
   "cell_type": "code",
   "execution_count": 35,
   "metadata": {},
   "outputs": [
    {
     "data": {
      "text/plain": [
       "0      259\n",
       "1      399\n",
       "2      386\n",
       "3     353.\n",
       "4        0\n",
       "5      265\n",
       "6     189.\n",
       "7        0\n",
       "8      259\n",
       "9     164.\n",
       "10       0\n",
       "11     292\n",
       "12     148\n",
       "13      78\n",
       "14     699\n",
       "15     184\n",
       "Name: Price, dtype: object"
      ]
     },
     "execution_count": 35,
     "metadata": {},
     "output_type": "execute_result"
    }
   ],
   "source": [
    "df.Price"
   ]
  },
  {
   "cell_type": "code",
   "execution_count": 38,
   "metadata": {},
   "outputs": [
    {
     "data": {
      "text/plain": [
       "<bound method DataFrame.to_string of           Date                                            Product Price\n",
       "0   2023-08-22  Hindus in Hindu Rashtra (Eighth-Class Citizens...   259\n",
       "1   2023-08-22   My First Mini Library : Boxset of 10 Board Books   399\n",
       "2   2023-08-22  Atomic Habits: the life-changing million-copy ...   386\n",
       "3   2023-08-22                                             Ikigai  353.\n",
       "4   2023-08-22                            The Psychology Of Money     0\n",
       "5   2023-08-22                    Shrimad Bhagwat Geeta Yatharoop   265\n",
       "6   2023-08-22  Indian Polity for UPSC (English| 7th Edition) ...  189.\n",
       "7   2023-08-22       Don't Believe Everything You Think (English)     0\n",
       "8   2023-08-22                The Power of Your Subconscious Mind   259\n",
       "9   2023-08-22        Colouring Books for Kids (Pack of 12 Books)  164.\n",
       "10  2023-08-22  Do It Today: Overcome procrastination, improve...     0\n",
       "11  2023-08-22  Brain Activity Book for Kids - 200+ Activities...   292\n",
       "12  2023-08-22  BlackBook of English Vocabulary March 2023 by ...   148\n",
       "13  2023-08-22  Grandma's Bag of Stories: Collection of 20+ Il...    78\n",
       "14  2023-08-22  Rich Dad Poor Dad: What the Rich Teach Their K...   699\n",
       "15  2023-08-22  My First Book of Patterns Pencil Control: Prac...   184>"
      ]
     },
     "execution_count": 38,
     "metadata": {},
     "output_type": "execute_result"
    }
   ],
   "source": [
    "df.to_string"
   ]
  },
  {
   "cell_type": "code",
   "execution_count": 37,
   "metadata": {},
   "outputs": [],
   "source": [
    "df.to_csv('AmazonScrapeFinal.csv')"
   ]
  }
 ],
 "metadata": {
  "kernelspec": {
   "display_name": "Python 3 (ipykernel)",
   "language": "python",
   "name": "python3"
  },
  "language_info": {
   "codemirror_mode": {
    "name": "ipython",
    "version": 3
   },
   "file_extension": ".py",
   "mimetype": "text/x-python",
   "name": "python",
   "nbconvert_exporter": "python",
   "pygments_lexer": "ipython3",
   "version": "3.11.4"
  }
 },
 "nbformat": 4,
 "nbformat_minor": 4
}
